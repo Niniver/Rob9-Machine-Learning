{
 "cells": [
  {
   "cell_type": "code",
   "execution_count": null,
   "metadata": {},
   "outputs": [],
   "source": [
    "import os\n",
    "import numpy as np\n",
    "import matplotlib.pyplot as plt\n",
    "from sklearn.linear_model import Ridge\n",
    "from sklearn.preprocessing import PolynomialFeatures"
   ]
  },
  {
   "cell_type": "code",
   "execution_count": null,
   "metadata": {},
   "outputs": [],
   "source": [
    "# Load data\n",
    "work_dir = os.getcwd() # CHANGE THIS WITH YOUR CURRENT DIR!\n",
    "save_path = work_dir + r'\\ex01_data.npy'\n",
    "\n",
    "data = ... # TODO: load data (check https://numpy.org/doc/stable/reference/generated/numpy.load.html)\n",
    "    \n",
    "x1 = data[:,0]\n",
    "x2 = data[:,1]\n",
    "y = data[:,2]"
   ]
  },
  {
   "cell_type": "code",
   "execution_count": null,
   "metadata": {},
   "outputs": [],
   "source": [
    "# Sample data and plot\n",
    "np.random.seed(100)\n",
    "\n",
    "sample_points = 10\n",
    "sample_idx = np.sort(np.random.choice(len(x1), sample_points))\n",
    "\n",
    "x1_sub = np.take(x1, sample_idx)\n",
    "x2_sub = ... # TODO: sample x2\n",
    "\n",
    "plt.figure()\n",
    "plt.scatter(x1_sub, x2_sub, label='Sampled data')\n",
    "plt.legend()\n",
    "plt.xlabel('x1')\n",
    "plt.ylabel('x2')\n",
    "plt.grid()\n",
    "plt.show()"
   ]
  },
  {
   "cell_type": "code",
   "execution_count": null,
   "metadata": {},
   "outputs": [],
   "source": [
    "def polyfit(x1, x2, deg, regularization=0, y = None, show_sums_of_squares=False):\n",
    "    \n",
    "    # Generate polynomial features\n",
    "    poly = PolynomialFeatures(degree=deg)\n",
    "    x1_poly = poly.fit_transform(x1[:, np.newaxis])\n",
    "    \n",
    "    # Create the Ridge regression model\n",
    "    ridge_reg = Ridge(alpha=regularization)\n",
    "    \n",
    "    # Fit the model\n",
    "    ... # TODO: check https://scikit-learn.org/stable/modules/generated/sklearn.linear_model.Ridge.html for further information\n",
    "    \n",
    "    # Generate x values for the regression line/curve\n",
    "    x1_plot = ... # TODO: Generate 1000 samples between the minimum and maximum values of x1\n",
    "    x1_poly_plot = poly.transform(x1_plot[:, np.newaxis])\n",
    "    \n",
    "    # Predict y_hat values\n",
    "    y_hat_plot = ... # TODO: Compute predictions using the 1000 samples you generated\n",
    "    y_hat = ... # TODO: Use the ridge regression to predict x2 given x1\n",
    "    \n",
    "    # Extract coefficients\n",
    "    coefs = ridge_reg.intercept_, *ridge_reg.coef_[1:]\n",
    "    \n",
    "    # Here we calculate mean-square-error (MSE)\n",
    "    MSE = ... # TODO: implement MSE equation\n",
    "\n",
    "    # At last we plot the observation and the regression line/curve\n",
    "    plt.figure()\n",
    "    \n",
    "    # The following 2 lines is only to show the \"squares\" to be minimized\n",
    "    if show_sums_of_squares:\n",
    "        plt.plot((x1, x1), (x2, ridge_reg.predict(x1_poly)), \n",
    "                 color='limegreen')\n",
    "    \n",
    "    plt.scatter(x1, x2, label='Observations')\n",
    "    plt.plot(x1_plot, y_hat_plot, '-', label='Polynimial fit of degree %i' % deg, color='orange')\n",
    "    if y is not None:\n",
    "        plt.plot(np.linspace(-5,5,500), y, label='Ground truth', color='red')\n",
    "    \n",
    "    \n",
    "    plt.xlabel('x1')\n",
    "    plt.ylabel('x2')\n",
    "    plt.ylim([-20, 40])\n",
    "    plt.legend()\n",
    "    plt.grid()\n",
    "    plt.show()\n",
    "    \n",
    "    return coefs, MSE"
   ]
  },
  {
   "cell_type": "code",
   "execution_count": null,
   "metadata": {},
   "outputs": [],
   "source": [
    "# 1) Experiment with different polynomial degrees:\n",
    "deg = 5\n",
    "\n",
    "coefs, mse = polyfit(x1_sub, x2_sub, deg=deg, y=y, show_sums_of_squares=True)\n",
    "print('MSE = ', round(mse,3))"
   ]
  },
  {
   "cell_type": "code",
   "execution_count": null,
   "metadata": {},
   "outputs": [],
   "source": [
    "# 2) Explore L2 regularization:\n",
    "deg = 9\n",
    "reg = 1e-1\n",
    "\n",
    "coefs, mse = ... # TODO\n",
    "print('MSE = ', round(mse,3))"
   ]
  },
  {
   "cell_type": "code",
   "execution_count": null,
   "metadata": {},
   "outputs": [],
   "source": [
    "# 3) Investigate the effect of sample size.\n",
    "np.random.seed(100)\n",
    "\n",
    "sample_points = 100\n",
    "sample_idx = ... # TODO\n",
    "\n",
    "x1_sub_100 = ... # TODO\n",
    "x2_sub_100 = ... # TODO\n",
    "\n",
    "\n",
    "deg = 9\n",
    "reg = 1e-2\n",
    "coefs, mse = polyfit(x1_sub_100, x2_sub_100, deg=deg, regularization=reg, y=y)\n",
    "print('MSE = ', round(mse,3))"
   ]
  }
 ],
 "metadata": {
  "kernelspec": {
   "display_name": "Python 3",
   "language": "python",
   "name": "python3"
  },
  "language_info": {
   "codemirror_mode": {
    "name": "ipython",
    "version": 3
   },
   "file_extension": ".py",
   "mimetype": "text/x-python",
   "name": "python",
   "nbconvert_exporter": "python",
   "pygments_lexer": "ipython3",
   "version": "3.12.4"
  }
 },
 "nbformat": 4,
 "nbformat_minor": 2
}
